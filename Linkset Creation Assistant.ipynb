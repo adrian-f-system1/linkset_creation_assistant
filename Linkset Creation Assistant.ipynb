{
 "cells": [
  {
   "cell_type": "markdown",
   "id": "80acffeb-ac22-409e-8727-0b3ca1dfe626",
   "metadata": {},
   "source": [
    "# Adrian's Spin Tool\n",
    "\n",
    "This tool should streamline the spinning of relatively large numbers of domains, though I find it helpful even for single domains where a new linkset is needed. It can:\n",
    "\n",
    "- Help streamline the creation of new linksets\n",
    "- Automatically generate properly-formatted URLs from Vert/Sub-Vert descriptions\n",
    "\n",
    "and coming soon:\n",
    "- Custom formatting\n",
    "- Auto-parsing Language-geo pairs in order to enable the true bulk creation of linksets for a range of partner/vertical/lang/geo vectors\n",
    "- Auto-translation\n",
    "- Auto-generation of KW suggestions from Ads"
   ]
  },
  {
   "cell_type": "code",
   "execution_count": 12,
   "id": "ce73c78d-b838-472c-8014-f1690261ddc0",
   "metadata": {},
   "outputs": [],
   "source": [
    "# In this first cell, you'll enter the relevant information\n",
    "\n",
    "import datetime\n",
    "\n",
    "# enter your Sub-Verticals here, with or without the lang/geo pair\n",
    "sub_verticals = '''Used Cars (English, intl)\n",
    "New SUVs (English, intl)\n",
    "2020 Crossovers (English, intl)\n",
    "'''.splitlines()\n",
    "\n",
    "partner = 'Partner_name'\n",
    "lang = 'English'\n",
    "geo = 'intl' # this is for descriptions\n",
    "url_geo = ['intl'] # must be an array, like ['intl','in'] - I'll simplify this later\n",
    "tag = '_intl' # or, for example, ':uk' or '_gdn' - this is for linksets\n",
    "\n",
    "# this method turns 'Thing (Lang, geo)' into 'Thing'\n",
    "sub_vert_simplifier = lambda x:[' '.join(thing.split('(')[0].split(' ')[:-1])\\\n",
    "                                    for thing in x] # x: array\n",
    "\n",
    "# If you typed in your verticals with the (Lang, geo) tag, let this run - else, put a # in front, like so:\n",
    "#hidden_line = example(thing)\n",
    "sub_verticals = sub_vert_simplifier(sub_verticals)"
   ]
  },
  {
   "cell_type": "markdown",
   "id": "ab2c9add",
   "metadata": {},
   "source": [
    "## Cool, now what?\n",
    "\n",
    "Now that we've set up our variables, we can actually do stuff! Speaking of, just run the next cell - don't enter/change anything (there's no way around showing you this behind-the-scenes cell, as far as I can tell)"
   ]
  },
  {
   "cell_type": "code",
   "execution_count": 13,
   "id": "48ee7af9",
   "metadata": {},
   "outputs": [],
   "source": [
    "# just run this bad boy\n",
    "\n",
    "def linkset_gen_strings(sub_verticals, partner, lang, geo, vert='', tag='', \\\n",
    "                        format_opt='gen', platform=None, doms=None, simplify=False):\n",
    "    \n",
    "    '''\n",
    "    ask Adrian for docs\n",
    "    '''\n",
    "    \n",
    "    sub_vert_simplifier = lambda x:[' '.join(thing.split('(')[0].split(' ')[:-1])\\\n",
    "                                    for thing in x] # x: array\n",
    "    \n",
    "    if simplify==True:\n",
    "        sub_verticals = sub_vert_simplifier(sub_verticals)\n",
    "    \n",
    "    linkset_strings = [vert +  '_'.join(sub_vert.lower().split(' ')) + \\\n",
    "                       tag for sub_vert in sub_verticals]\n",
    "        \n",
    "    today = datetime.datetime.strftime(datetime.date.today(), '%m-%d-%y')    \n",
    "        \n",
    "    if format_opt == 'gen':\n",
    "        for linkset_index, linkset in enumerate(linkset_strings):\n",
    "\n",
    "            format_array = [partner, sub_verticals[linkset_index], lang, geo]\n",
    "            \n",
    "            print(linkset)\n",
    "            print('/'), print(), print('/')\n",
    "            print('{} - {} ({}, {}) - {}'.format(*format_array + [today]))\n",
    "            print('--------------------------------')\n",
    "\n",
    "    if format_opt == 'spreadsheet':\n",
    "        for sub_vert in sub_verticals:\n",
    "            \n",
    "            format_array = [sub_vert, lang, geo]\n",
    "            \n",
    "            print(('{} ({}, {})'.format(*format_array)))\n",
    "\n",
    "    if format_opt == 'console_desc':\n",
    "        for sub_vert in sub_verticals:\n",
    "            format_array = [partner, sub_vert, lang, geo]\n",
    "            print('{} - {} ({}, {}) - {}'.format(*format_array + [today]))\n",
    "            \n",
    "    if format_opt == 'urls':\n",
    "        print('~~urls~~')\n",
    "        for sub_vert in sub_verticals:\n",
    "            # new\n",
    "            for g_o in geo:\n",
    "                print(g_o+'-'+'-'.join(sub_vert.lower().split(' ')))\n",
    "        print()\n",
    "        print('~~linksets~~')\n",
    "        # below: specific to the Jupyter Notebook\n",
    "        for linkset in linkset_strings:\n",
    "            print(linkset)\n",
    "            \n",
    "    print()\n",
    "        \n",
    "    return"
   ]
  },
  {
   "cell_type": "code",
   "execution_count": 17,
   "id": "4fb67c6a",
   "metadata": {},
   "outputs": [
    {
     "name": "stdout",
     "output_type": "stream",
     "text": [
      "used_cars_intl\n",
      "/\n",
      "\n",
      "/\n",
      "Partner_name - Used Cars (English, intl) - 01-25-22\n",
      "--------------------------------\n",
      "new_suvs_intl\n",
      "/\n",
      "\n",
      "/\n",
      "Partner_name - New SUVs (English, intl) - 01-25-22\n",
      "--------------------------------\n",
      "2020_crossovers_intl\n",
      "/\n",
      "\n",
      "/\n",
      "Partner_name - 2020 Crossovers (English, intl) - 01-25-22\n",
      "--------------------------------\n",
      "\n"
     ]
    }
   ],
   "source": [
    "# now, just hide/unhide the functions you want! \n",
    "\n",
    "# this packages your variables nicely - it just makes the code cleaner\n",
    "setting_array = [sub_verticals, partner, lang, geo]\n",
    "\n",
    "# the default option\n",
    "linkset_gen_strings(*setting_array, tag=tag)\n",
    "\n",
    "# this adds (Lang, geo) to your subverts\n",
    "#linkset_gen_strings(*setting_array, format_opt='spreadsheet')\n",
    "\n",
    "# this gives you urls and linkset names\n",
    "#linkset_gen_strings(*setting_array[:3], url_geo, format_opt='urls')"
   ]
  },
  {
   "cell_type": "markdown",
   "id": "771cd591",
   "metadata": {},
   "source": [
    "A final note: the way I use that default option thing is to:\n",
    "\n",
    "- copy and paste keywords from Ads into the space between the two \"/\"s\n",
    "    - fun fact: in Ads you can click the checkboxes of keywords you'd like and hit the clipboard icon to copy them all, unformatted, to your clipboard\n",
    "- move to Console\n",
    "- copy and paste the suggested subvertical in (top line)\n",
    "- copy and paste the KWs in\n",
    "- copy and paste the final line, a generalized description, into the description field\n",
    "- submit!\n",
    "\n",
    "A word to the wise: the first few times you use this, double check your work, despite the temptation to just blast through a dozen linksets - eventually, it is that fast and foolproof, but double check the linkset names if nothing else (for, e.g., \"_intl\")\n",
    "\n",
    "Here's an example:"
   ]
  },
  {
   "cell_type": "raw",
   "id": "0225cbe7",
   "metadata": {},
   "source": [
    "2020_crossovers_intl\n",
    "/\n",
    "Keyword 1\n",
    "Keyword 2\n",
    "...\n",
    "Keyword 10\n",
    "/\n",
    "Partner_name - 2020 Crossovers (English, intl) - 01-25-22"
   ]
  },
  {
   "cell_type": "markdown",
   "id": "80344dba",
   "metadata": {},
   "source": [
    "# One more party trick\n",
    "\n",
    "If you'd like an easier way to make URLs out of a listed of capitalized sentences, you can use the following.\n",
    "\n",
    "A note, though: it's tricky to take out things like ñ and ü and é, so you'll have to manually patch those"
   ]
  },
  {
   "cell_type": "code",
   "execution_count": 11,
   "id": "94a25a0e",
   "metadata": {},
   "outputs": [
    {
     "name": "stdout",
     "output_type": "stream",
     "text": [
      "geo-example-subvertical-one\n",
      "geo-example-subvertical-two\n",
      "geo-example-subvertical-three\n"
     ]
    }
   ],
   "source": [
    "url_start = 'geo-' # for example, 'intl-' or 'us-' ; you do need the dash\n",
    "\n",
    "url_strings = '''Example Subvertical One\n",
    "Example Subvertical Two\n",
    "Example Subvertical Three\n",
    "'''.splitlines()\n",
    "\n",
    "for line in url_strings:\n",
    "    print(url_start + '-'.join(line.lower().split(' ')))"
   ]
  },
  {
   "cell_type": "code",
   "execution_count": null,
   "id": "0326550c",
   "metadata": {},
   "outputs": [],
   "source": []
  }
 ],
 "metadata": {
  "kernelspec": {
   "display_name": "Python 3 (ipykernel)",
   "language": "python",
   "name": "python3"
  },
  "language_info": {
   "codemirror_mode": {
    "name": "ipython",
    "version": 3
   },
   "file_extension": ".py",
   "mimetype": "text/x-python",
   "name": "python",
   "nbconvert_exporter": "python",
   "pygments_lexer": "ipython3",
   "version": "3.8.8"
  },
  "toc-autonumbering": true,
  "toc-showmarkdowntxt": true
 },
 "nbformat": 4,
 "nbformat_minor": 5
}
